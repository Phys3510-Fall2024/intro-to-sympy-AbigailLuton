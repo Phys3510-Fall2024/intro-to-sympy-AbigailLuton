{
 "cells": [
  {
   "cell_type": "markdown",
   "id": "ab0c3b38-58c2-4290-9397-333967ae2731",
   "metadata": {},
   "source": [
    "## Testing the transient solution to the damped harmonic oscillator\n",
    "\n",
    "We want to check\n",
    "$ Q_{tr} = e^(-\\gamma t) [A cos( \\omega_0 t) + B sin( \\omega_0 t)$\n",
    "\n",
    "$\\ddot{Q} + 2 \\gamma \\dot{Q} +\\omega_0^2 Q = 0$\n"
   ]
  },
  {
   "cell_type": "code",
   "execution_count": 20,
   "id": "93ef0b6c-a7a9-4af7-afa7-1b7d8d8c3756",
   "metadata": {},
   "outputs": [
    {
     "data": {
      "text/latex": [
       "$\\displaystyle 0$"
      ],
      "text/plain": [
       "0"
      ]
     },
     "execution_count": 20,
     "metadata": {},
     "output_type": "execute_result"
    }
   ],
   "source": [
    "#import libraries --> sympy\n",
    "import sympy as sp\n",
    "\n",
    "#define variables gamma, omega_0, omega_gamma, A, B, t\n",
    "A, B, omega_0, omega_gamma, gamma, t = sp.symbols(\"A, B, omega_0, omega_gamma, gamma, t\", real=True)\n",
    "Q = sp.Function(\"Q\")(t)\n",
    "\n",
    "#define the differential eqs as the LHS (which must = 0 when F_0 = 0)\n",
    "sp.diff(Q,t,2) + 2*gamma*sp.diff(Q,t,1) + (omega_0**2)*Q\n",
    "\n",
    "#define our guess for the solution\n",
    "Q_transient_guess = sp.exp(-gamma*t)*(A*sp.cos(omega_gamma*t) + B*sp.sin(omega_gamma*t))\n",
    "\n",
    "omega_gamma_expr = sp.sqrt(omega_0**2-gamma**2)\n",
    "#plug our guess into the diff eq; includes taking derivatives\n",
    "diff_eqn_test = sp.diff(Q_transient_guess,t,2) + 2*gamma*sp.diff(Q_transient_guess, t, 1) + (omega_0**2)*Q_transient_guess\n",
    "test_result = diff_eqn_test.subs(omega_gamma, omega_gamma_expr).simplify()\n",
    "test_result"
   ]
  },
  {
   "cell_type": "markdown",
   "id": "237dad68-9307-4141-8a8f-4441bad64657",
   "metadata": {},
   "source": [
    "## Deriving the steady solution to the damped, driven harmonic"
   ]
  },
  {
   "cell_type": "code",
   "execution_count": 24,
   "id": "4cb48888-4fc4-4414-86ec-d7513fe115f6",
   "metadata": {},
   "outputs": [
    {
     "ename": "NameError",
     "evalue": "name 'C_sol' is not defined",
     "output_type": "error",
     "traceback": [
      "\u001b[1;31m---------------------------------------------------------------------------\u001b[0m",
      "\u001b[1;31mNameError\u001b[0m                                 Traceback (most recent call last)",
      "Cell \u001b[1;32mIn[24], line 23\u001b[0m\n\u001b[0;32m     16\u001b[0m drive_expr \u001b[38;5;241m=\u001b[39m (F_0\u001b[38;5;241m/\u001b[39mm)\u001b[38;5;241m*\u001b[39msp\u001b[38;5;241m.\u001b[39mexp(sp\u001b[38;5;241m.\u001b[39mI\u001b[38;5;241m*\u001b[39momega\u001b[38;5;241m*\u001b[39mt)\n\u001b[0;32m     18\u001b[0m \u001b[38;5;66;03m#plug in solution\u001b[39;00m\n\u001b[0;32m     19\u001b[0m \u001b[38;5;66;03m##########################\u001b[39;00m\n\u001b[0;32m     20\u001b[0m \u001b[38;5;66;03m#solve for coefficient C\u001b[39;00m\n\u001b[0;32m     21\u001b[0m \u001b[38;5;66;03m#C_sol = sp.solve(diff_eqn_guess, C)[0]\u001b[39;00m\n\u001b[0;32m     22\u001b[0m \u001b[38;5;66;03m#Find the real part of the solution\u001b[39;00m\n\u001b[1;32m---> 23\u001b[0m sp\u001b[38;5;241m.\u001b[39mexpand(\u001b[43mC_sol\u001b[49m\u001b[38;5;241m*\u001b[39msp\u001b[38;5;241m.\u001b[39mexp(sp\u001b[38;5;241m.\u001b[39mI\u001b[38;5;241m*\u001b[39momega\u001b[38;5;241m*\u001b[39mt))\n\u001b[0;32m     24\u001b[0m \u001b[38;5;66;03m#Plug in the real part of the solution into the diff eq\u001b[39;00m\n\u001b[0;32m     25\u001b[0m \u001b[38;5;66;03m#test the alternative, analytic form to the solution\u001b[39;00m\n",
      "\u001b[1;31mNameError\u001b[0m: name 'C_sol' is not defined"
     ]
    }
   ],
   "source": [
    "#Import libraries\n",
    "#Define the variables and functions\n",
    "omega_0, gamma, t, F_0, m, omega = sp.symbols(\"omega_0, gamma, t, F_0, m, omega\", real=True)\n",
    "C = sp.symbols(\"C\", complex=True)\n",
    "Q = sp.Function(\"Q\")(t)\n",
    "F = sp.Function(\"F\")(t)\n",
    "\n",
    "#defin diff eq\n",
    "diff_eqn_ref = sp.Eq(\n",
    "    sp.diff(Q,t,2) + 2*gamma*sp.diff(Q,t,1)+(omega_0**2), #LHS\n",
    "    F/m #RHS\n",
    ")\n",
    "\n",
    "#define guess\n",
    "Q_st_guess = C*sp.exp(sp.I*omega*t)\n",
    "drive_expr = (F_0/m)*sp.exp(sp.I*omega*t)\n",
    "\n",
    "#plug in solution\n",
    "##########################\n",
    "#solve for coefficient C\n",
    "#C_sol = sp.solve(diff_eqn_guess, C)[0]\n",
    "#Find the real part of the solution\n",
    "#Q_sol = sp.re(sp.expand_complex(C_sol*sp.exp(sp.I*omega*t)).simplify())\n",
    "#Plug in the real part of the solution into the diff eq\n",
    "#test the alternative, analytic form to the solution"
   ]
  },
  {
   "cell_type": "code",
   "execution_count": null,
   "id": "f471ab58-d451-4950-ac0d-e74cc969cb87",
   "metadata": {},
   "outputs": [],
   "source": []
  }
 ],
 "metadata": {
  "kernelspec": {
   "display_name": "Python 3 (ipykernel)",
   "language": "python",
   "name": "python3"
  },
  "language_info": {
   "codemirror_mode": {
    "name": "ipython",
    "version": 3
   },
   "file_extension": ".py",
   "mimetype": "text/x-python",
   "name": "python",
   "nbconvert_exporter": "python",
   "pygments_lexer": "ipython3",
   "version": "3.9.19"
  }
 },
 "nbformat": 4,
 "nbformat_minor": 5
}
